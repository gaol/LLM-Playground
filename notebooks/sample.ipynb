{
 "cells": [
  {
   "cell_type": "code",
   "execution_count": 1,
   "metadata": {},
   "outputs": [
    {
     "ename": "ModuleNotFoundError",
     "evalue": "No module named 'shares'",
     "output_type": "error",
     "traceback": [
      "\u001b[0;31m---------------------------------------------------------------------------\u001b[0m",
      "\u001b[0;31mModuleNotFoundError\u001b[0m                       Traceback (most recent call last)",
      "Cell \u001b[0;32mIn[1], line 5\u001b[0m\n\u001b[1;32m      1\u001b[0m \u001b[38;5;66;03m# the following 2 lines are needed in IDE, they are not needed in the Docker container.\u001b[39;00m\n\u001b[1;32m      2\u001b[0m \u001b[38;5;66;03m#import common\u001b[39;00m\n\u001b[1;32m      3\u001b[0m \u001b[38;5;66;03m#common.setup()\u001b[39;00m\n\u001b[0;32m----> 5\u001b[0m \u001b[38;5;28;01mfrom\u001b[39;00m \u001b[38;5;21;01mshares\u001b[39;00m \u001b[38;5;28;01mimport\u001b[39;00m llm, tools, BASE_DIR\n\u001b[1;32m      7\u001b[0m llm_registry \u001b[38;5;241m=\u001b[39m llm\u001b[38;5;241m.\u001b[39mLLMProviderRegistry()\n\u001b[1;32m      9\u001b[0m \u001b[38;5;66;03m# Load models from JSON file\u001b[39;00m\n",
      "\u001b[0;31mModuleNotFoundError\u001b[0m: No module named 'shares'"
     ]
    }
   ],
   "source": [
    "# the following 2 lines are needed in IDE, they are not needed in the Docker container.\n",
    "#import common\n",
    "#common.setup()\n",
    "\n",
    "from shares import llm, tools, BASE_DIR\n",
    "\n",
    "llm_registry = llm.LLMProviderRegistry()\n",
    "\n",
    "# Load models from JSON file\n",
    "llm_registry.load_from_json(f\"{BASE_DIR}/models/models.json.sample\")\n",
    "for model, model_config in llm_registry.list_models().items():\n",
    "    print(f\"{model} ==> {str(model_config)}\\n\")\n"
   ]
  }
 ],
 "metadata": {
  "kernelspec": {
   "display_name": "Python 3",
   "language": "python",
   "name": "python3"
  },
  "language_info": {
   "codemirror_mode": {
    "name": "ipython",
    "version": 3
   },
   "file_extension": ".py",
   "mimetype": "text/x-python",
   "name": "python",
   "nbconvert_exporter": "python",
   "pygments_lexer": "ipython3",
   "version": "3.13.1"
  }
 },
 "nbformat": 4,
 "nbformat_minor": 2
}
