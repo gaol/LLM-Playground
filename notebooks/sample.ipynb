{
 "cells": [
  {
   "cell_type": "code",
   "execution_count": 6,
   "metadata": {},
   "outputs": [
    {
     "name": "stdout",
     "output_type": "stream",
     "text": [
      "OpenAI-gpt-4o ==> ModelConfig(name='OpenAI-gpt-4o', base_url='https://api.openai.com/v1', api_key='your_openai_api_key', model='gpt-4o', modality=<ModalityType.MULTIMODAL: 15>, tools=['weather_api', 'summarize_text'], additional_params={})\n",
      "\n"
     ]
    }
   ],
   "source": [
    "import sys\n",
    "sys.path.append(\"../\")\n",
    "from shares import llm, tools\n",
    "\n",
    "llm_registry = llm.LLMProviderRegistry()\n",
    "\n",
    "# Load models from JSON file\n",
    "llm_registry.load_from_json(\"../models/models.json.sample\")\n",
    "for model, model_config in llm_registry.list_models().items():\n",
    "    print(f\"{model} ==> {str(model_config)}\\n\")\n"
   ]
  }
 ],
 "metadata": {
  "kernelspec": {
   "display_name": "Python 3",
   "language": "python",
   "name": "python3"
  },
  "language_info": {
   "codemirror_mode": {
    "name": "ipython",
    "version": 3
   },
   "file_extension": ".py",
   "mimetype": "text/x-python",
   "name": "python",
   "nbconvert_exporter": "python",
   "pygments_lexer": "ipython3",
   "version": "3.13.1"
  }
 },
 "nbformat": 4,
 "nbformat_minor": 2
}
