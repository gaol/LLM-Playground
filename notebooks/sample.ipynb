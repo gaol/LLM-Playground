{
 "cells": [
  {
   "cell_type": "code",
   "execution_count": null,
   "metadata": {},
   "outputs": [
   ],
   "source": [
    "# the following 2 lines are needed in IDE, they are not needed in the Docker container.\n",
    "#import common\n",
    "#common.setup()\n",
    "\n",
    "from shares import llm, tools, BASE_DIR\n",
    "\n",
    "llm_registry = llm.LLMProviderRegistry()\n",
    "\n",
    "# Load models from JSON file\n",
    "llm_registry.load_from_json(f\"{BASE_DIR}/models/models.json.sample\")\n",
    "for model, model_config in llm_registry.list_models().items():\n",
    "    print(f\"{model} ==> {str(model_config)}\\n\")\n"
   ]
  }
 ],
 "metadata": {
  "kernelspec": {
   "display_name": "Python 3",
   "language": "python",
   "name": "python3"
  },
  "language_info": {
   "codemirror_mode": {
    "name": "ipython",
    "version": 3
   },
   "file_extension": ".py",
   "mimetype": "text/x-python",
   "name": "python",
   "nbconvert_exporter": "python",
   "pygments_lexer": "ipython3",
   "version": "3.13.1"
  }
 },
 "nbformat": 4,
 "nbformat_minor": 4
}
