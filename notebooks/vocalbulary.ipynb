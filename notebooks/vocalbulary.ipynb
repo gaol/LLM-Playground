{
 "cells": [
  {
   "cell_type": "markdown",
   "metadata": {},
   "source": [
    "# English vocalbulary notebook\n",
    "\n",
    "This is a notebook used to generate English words card to enhance vocalbulary.\n",
    "\n",
    "The first step is to ask DeepSeek to generate 10 English words related to food back.\n"
   ]
  },
  {
   "cell_type": "code",
   "execution_count": 14,
   "metadata": {},
   "outputs": [
    {
     "name": "stderr",
     "output_type": "stream",
     "text": [
      "ERROR:root:An error occurred: [Errno 2] No such file or directory: '/home/lgao/sources/personal/LLM-Playground/notebooks/openai.py'\n",
      "Traceback (most recent call last):\n",
      "  File \"/home/lgao/sources/personal/LLM-Playground/llms/llm.py\", line 66, in get_llm_handler\n",
      "    if model_config is None:\n",
      "                   ^^^^^^^^^\n",
      "  File \"/home/lgao/sources/personal/LLM-Playground/llms/llm.py\", line 14, in _load_function\n",
      "    spec = importlib.util.spec_from_file_location(module_name, module_path)\n",
      "    ^^^^^^^^^^^^^^^^^^^^^^^^^^^^^^^\n",
      "  File \"<frozen importlib._bootstrap_external>\", line 1022, in exec_module\n",
      "  File \"<frozen importlib._bootstrap_external>\", line 1159, in get_code\n",
      "  File \"<frozen importlib._bootstrap_external>\", line 1217, in get_data\n",
      "FileNotFoundError: [Errno 2] No such file or directory: '/home/lgao/sources/personal/LLM-Playground/notebooks/openai.py'\n"
     ]
    },
    {
     "name": "stdout",
     "output_type": "stream",
     "text": [
      "None\n",
      "Model with name: DEEPSEEK-CHAT is not defined.\n"
     ]
    },
    {
     "ename": "AttributeError",
     "evalue": "'NoneType' object has no attribute 'chat'",
     "output_type": "error",
     "traceback": [
      "\u001b[0;31m---------------------------------------------------------------------------\u001b[0m",
      "\u001b[0;31mAttributeError\u001b[0m                            Traceback (most recent call last)",
      "Cell \u001b[0;32mIn[14], line 22\u001b[0m\n\u001b[1;32m     19\u001b[0m     exit(\u001b[38;5;241m1\u001b[39m)\n\u001b[1;32m     21\u001b[0m prompt \u001b[38;5;241m=\u001b[39m \u001b[38;5;124m\"\u001b[39m\u001b[38;5;124mPlease list 10 English words relating to food, returns only the words list, one word per line.\u001b[39m\u001b[38;5;124m\"\u001b[39m\n\u001b[0;32m---> 22\u001b[0m words_list \u001b[38;5;241m=\u001b[39m \u001b[43mllm_handler\u001b[49m\u001b[38;5;241;43m.\u001b[39;49m\u001b[43mchat\u001b[49m(prompt)\n\u001b[1;32m     23\u001b[0m \u001b[38;5;28mprint\u001b[39m(\u001b[38;5;124mf\u001b[39m\u001b[38;5;124m\"\u001b[39m\u001b[38;5;124mEnglish Words List: \u001b[39m\u001b[38;5;132;01m{\u001b[39;00mwords_list\u001b[38;5;132;01m}\u001b[39;00m\u001b[38;5;124m\"\u001b[39m)\n",
      "\u001b[0;31mAttributeError\u001b[0m: 'NoneType' object has no attribute 'chat'"
     ]
    }
   ],
   "source": [
    "import common\n",
    "common.setup()\n",
    "\n",
    "import os\n",
    "\n",
    "pp = os.environ.get(\"PYTHONPATH\")\n",
    "print(f\"{pp}\")\n",
    "\n",
    "from llms import llm\n",
    "\n",
    "# initialize the LLM provider\n",
    "llms = llm.LLMProviderRegistry()\n",
    "llms.load_from_default()\n",
    "\n",
    "model_name = \"DEEPSEEK-CHAT\"\n",
    "llm_handler = llms.get_llm_handler(model_name)\n",
    "if llm_handler is None:\n",
    "    print(f\"Model with name: {model_name} is not defined.\")\n",
    "    exit(1)\n",
    "\n",
    "prompt = \"Please list 10 English words relating to food, returns only the words list, one word per line.\"\n",
    "words_list = llm_handler.chat(prompt)\n",
    "print(f\"English Words List: {words_list}\")\n"
   ]
  }
 ],
 "metadata": {
  "kernelspec": {
   "display_name": "Python 3",
   "language": "python",
   "name": "python3"
  },
  "language_info": {
   "codemirror_mode": {
    "name": "ipython",
    "version": 3
   },
   "file_extension": ".py",
   "mimetype": "text/x-python",
   "name": "python",
   "nbconvert_exporter": "python",
   "pygments_lexer": "ipython3",
   "version": "3.13.1"
  }
 },
 "nbformat": 4,
 "nbformat_minor": 2
}
