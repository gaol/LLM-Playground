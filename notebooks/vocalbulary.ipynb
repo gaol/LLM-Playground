{
 "cells": [
  {
   "cell_type": "markdown",
   "metadata": {},
   "source": [
    "# English vocalbulary notebook\n",
    "\n",
    "This is a notebook used to generate English words card to enhance vocalbulary.\n",
    "\n",
    "The first step is to ask DeepSeek to generate 10 English words related to food back.\n"
   ]
  },
  {
   "cell_type": "code",
   "execution_count": null,
   "metadata": {},
   "outputs": [],
   "source": [
    "import common\n",
    "common.setup()\n",
    "\n",
    "from llms_playground import llm\n",
    "\n",
    "# initialize the LLM provider\n",
    "llms = llm.LLMProviderRegistry()\n",
    "llms.load_from_default()\n",
    "\n",
    "model_name = \"DEEPSEEK-CHAT\"\n",
    "llm_handler = llms.get_llm_handler(model_name)\n",
    "if llm_handler is None:\n",
    "    print(f\"Model with name: {model_name} is not defined.\")\n",
    "    exit(1)\n",
    "\n",
    "prompt = \"Please list 10 English words relating to food, returns only the words list, one word per line.\"\n",
    "words_list = llm_handler.chat(prompt)\n",
    "print(f\"English Words List: {words_list}\")\n"
   ]
  }
 ],
 "metadata": {
  "kernelspec": {
   "display_name": "Python 3",
   "language": "python",
   "name": "python3"
  },
  "language_info": {
   "codemirror_mode": {
    "name": "ipython",
    "version": 3
   },
   "file_extension": ".py",
   "mimetype": "text/x-python",
   "name": "python",
   "nbconvert_exporter": "python",
   "pygments_lexer": "ipython3",
   "version": "3.13.1"
  }
 },
 "nbformat": 4,
 "nbformat_minor": 2
}
